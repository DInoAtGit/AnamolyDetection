{
 "cells": [
  {
   "cell_type": "code",
   "execution_count": 1,
   "id": "303ae339-5fbf-4bd0-92e2-c69b1f4565a0",
   "metadata": {},
   "outputs": [],
   "source": [
    "import numpy as np\n",
    "import pandas as pd\n",
    "\n",
    "from sklearn.ensemble import IsolationForest\n",
    "from sklearn.svm import OneClassSVM\n",
    "from sklearn.preprocessing import StandardScaler\n",
    "from sklearn.model_selection import train_test_split\n",
    "from sklearn.metrics import confusion_matrix, recall_score, f1_score, accuracy_score, precision_score\n",
    "from sklearn.ensemble import VotingClassifier, RandomForestClassifier\n",
    "from sklearn.decomposition import PCA, IncrementalPCA, LatentDirichletAllocation\n",
    "from sklearn.manifold import TSNE\n",
    "\n",
    "from tqdm.notebook import tqdm, trange\n",
    "from typing import NoReturn, Union, List\n",
    "import tensorflow as tf\n",
    "from mlxtend.classifier import EnsembleVoteClassifier\n",
    "import matplotlib.pyplot as plt\n",
    "import seaborn as sns\n",
    "from umap import UMAP"
   ]
  },
  {
   "cell_type": "code",
   "execution_count": 2,
   "id": "1cf4687e-af75-48b9-a6e6-80b28bf2ca34",
   "metadata": {},
   "outputs": [
    {
     "data": {
      "text/html": [
       "<div>\n",
       "<style scoped>\n",
       "    .dataframe tbody tr th:only-of-type {\n",
       "        vertical-align: middle;\n",
       "    }\n",
       "\n",
       "    .dataframe tbody tr th {\n",
       "        vertical-align: top;\n",
       "    }\n",
       "\n",
       "    .dataframe thead th {\n",
       "        text-align: right;\n",
       "    }\n",
       "</style>\n",
       "<table border=\"1\" class=\"dataframe\">\n",
       "  <thead>\n",
       "    <tr style=\"text-align: right;\">\n",
       "      <th></th>\n",
       "      <th>Time</th>\n",
       "      <th>V1</th>\n",
       "      <th>V2</th>\n",
       "      <th>V3</th>\n",
       "      <th>V4</th>\n",
       "      <th>V5</th>\n",
       "      <th>V6</th>\n",
       "      <th>V7</th>\n",
       "      <th>V8</th>\n",
       "      <th>V9</th>\n",
       "      <th>...</th>\n",
       "      <th>V21</th>\n",
       "      <th>V22</th>\n",
       "      <th>V23</th>\n",
       "      <th>V24</th>\n",
       "      <th>V25</th>\n",
       "      <th>V26</th>\n",
       "      <th>V27</th>\n",
       "      <th>V28</th>\n",
       "      <th>Amount</th>\n",
       "      <th>Class</th>\n",
       "    </tr>\n",
       "  </thead>\n",
       "  <tbody>\n",
       "    <tr>\n",
       "      <th>0</th>\n",
       "      <td>0.0</td>\n",
       "      <td>-1.359807</td>\n",
       "      <td>-0.072781</td>\n",
       "      <td>2.536347</td>\n",
       "      <td>1.378155</td>\n",
       "      <td>-0.338321</td>\n",
       "      <td>0.462388</td>\n",
       "      <td>0.239599</td>\n",
       "      <td>0.098698</td>\n",
       "      <td>0.363787</td>\n",
       "      <td>...</td>\n",
       "      <td>-0.018307</td>\n",
       "      <td>0.277838</td>\n",
       "      <td>-0.110474</td>\n",
       "      <td>0.066928</td>\n",
       "      <td>0.128539</td>\n",
       "      <td>-0.189115</td>\n",
       "      <td>0.133558</td>\n",
       "      <td>-0.021053</td>\n",
       "      <td>149.62</td>\n",
       "      <td>0</td>\n",
       "    </tr>\n",
       "    <tr>\n",
       "      <th>1</th>\n",
       "      <td>0.0</td>\n",
       "      <td>1.191857</td>\n",
       "      <td>0.266151</td>\n",
       "      <td>0.166480</td>\n",
       "      <td>0.448154</td>\n",
       "      <td>0.060018</td>\n",
       "      <td>-0.082361</td>\n",
       "      <td>-0.078803</td>\n",
       "      <td>0.085102</td>\n",
       "      <td>-0.255425</td>\n",
       "      <td>...</td>\n",
       "      <td>-0.225775</td>\n",
       "      <td>-0.638672</td>\n",
       "      <td>0.101288</td>\n",
       "      <td>-0.339846</td>\n",
       "      <td>0.167170</td>\n",
       "      <td>0.125895</td>\n",
       "      <td>-0.008983</td>\n",
       "      <td>0.014724</td>\n",
       "      <td>2.69</td>\n",
       "      <td>0</td>\n",
       "    </tr>\n",
       "    <tr>\n",
       "      <th>2</th>\n",
       "      <td>1.0</td>\n",
       "      <td>-1.358354</td>\n",
       "      <td>-1.340163</td>\n",
       "      <td>1.773209</td>\n",
       "      <td>0.379780</td>\n",
       "      <td>-0.503198</td>\n",
       "      <td>1.800499</td>\n",
       "      <td>0.791461</td>\n",
       "      <td>0.247676</td>\n",
       "      <td>-1.514654</td>\n",
       "      <td>...</td>\n",
       "      <td>0.247998</td>\n",
       "      <td>0.771679</td>\n",
       "      <td>0.909412</td>\n",
       "      <td>-0.689281</td>\n",
       "      <td>-0.327642</td>\n",
       "      <td>-0.139097</td>\n",
       "      <td>-0.055353</td>\n",
       "      <td>-0.059752</td>\n",
       "      <td>378.66</td>\n",
       "      <td>0</td>\n",
       "    </tr>\n",
       "    <tr>\n",
       "      <th>3</th>\n",
       "      <td>1.0</td>\n",
       "      <td>-0.966272</td>\n",
       "      <td>-0.185226</td>\n",
       "      <td>1.792993</td>\n",
       "      <td>-0.863291</td>\n",
       "      <td>-0.010309</td>\n",
       "      <td>1.247203</td>\n",
       "      <td>0.237609</td>\n",
       "      <td>0.377436</td>\n",
       "      <td>-1.387024</td>\n",
       "      <td>...</td>\n",
       "      <td>-0.108300</td>\n",
       "      <td>0.005274</td>\n",
       "      <td>-0.190321</td>\n",
       "      <td>-1.175575</td>\n",
       "      <td>0.647376</td>\n",
       "      <td>-0.221929</td>\n",
       "      <td>0.062723</td>\n",
       "      <td>0.061458</td>\n",
       "      <td>123.50</td>\n",
       "      <td>0</td>\n",
       "    </tr>\n",
       "    <tr>\n",
       "      <th>4</th>\n",
       "      <td>2.0</td>\n",
       "      <td>-1.158233</td>\n",
       "      <td>0.877737</td>\n",
       "      <td>1.548718</td>\n",
       "      <td>0.403034</td>\n",
       "      <td>-0.407193</td>\n",
       "      <td>0.095921</td>\n",
       "      <td>0.592941</td>\n",
       "      <td>-0.270533</td>\n",
       "      <td>0.817739</td>\n",
       "      <td>...</td>\n",
       "      <td>-0.009431</td>\n",
       "      <td>0.798278</td>\n",
       "      <td>-0.137458</td>\n",
       "      <td>0.141267</td>\n",
       "      <td>-0.206010</td>\n",
       "      <td>0.502292</td>\n",
       "      <td>0.219422</td>\n",
       "      <td>0.215153</td>\n",
       "      <td>69.99</td>\n",
       "      <td>0</td>\n",
       "    </tr>\n",
       "  </tbody>\n",
       "</table>\n",
       "<p>5 rows × 31 columns</p>\n",
       "</div>"
      ],
      "text/plain": [
       "   Time        V1        V2        V3        V4        V5        V6        V7  \\\n",
       "0   0.0 -1.359807 -0.072781  2.536347  1.378155 -0.338321  0.462388  0.239599   \n",
       "1   0.0  1.191857  0.266151  0.166480  0.448154  0.060018 -0.082361 -0.078803   \n",
       "2   1.0 -1.358354 -1.340163  1.773209  0.379780 -0.503198  1.800499  0.791461   \n",
       "3   1.0 -0.966272 -0.185226  1.792993 -0.863291 -0.010309  1.247203  0.237609   \n",
       "4   2.0 -1.158233  0.877737  1.548718  0.403034 -0.407193  0.095921  0.592941   \n",
       "\n",
       "         V8        V9  ...       V21       V22       V23       V24       V25  \\\n",
       "0  0.098698  0.363787  ... -0.018307  0.277838 -0.110474  0.066928  0.128539   \n",
       "1  0.085102 -0.255425  ... -0.225775 -0.638672  0.101288 -0.339846  0.167170   \n",
       "2  0.247676 -1.514654  ...  0.247998  0.771679  0.909412 -0.689281 -0.327642   \n",
       "3  0.377436 -1.387024  ... -0.108300  0.005274 -0.190321 -1.175575  0.647376   \n",
       "4 -0.270533  0.817739  ... -0.009431  0.798278 -0.137458  0.141267 -0.206010   \n",
       "\n",
       "        V26       V27       V28  Amount  Class  \n",
       "0 -0.189115  0.133558 -0.021053  149.62      0  \n",
       "1  0.125895 -0.008983  0.014724    2.69      0  \n",
       "2 -0.139097 -0.055353 -0.059752  378.66      0  \n",
       "3 -0.221929  0.062723  0.061458  123.50      0  \n",
       "4  0.502292  0.219422  0.215153   69.99      0  \n",
       "\n",
       "[5 rows x 31 columns]"
      ]
     },
     "execution_count": 2,
     "metadata": {},
     "output_type": "execute_result"
    }
   ],
   "source": [
    "df = pd.read_csv('C:/Users/Dino_P340/Documents/KaggleExp/CreditCardFraud/creditcard.csv')\n",
    "df.head()"
   ]
  },
  {
   "cell_type": "markdown",
   "id": "132bd1a8-782d-4fea-8b03-16502a7d40fe",
   "metadata": {},
   "source": [
    "Dataset\n",
    "V{1-28}: PCA decompossition outcome\n",
    "Class label (0: normal, 1: fraudulent)\n",
    "Time: Number of seconds elapsed between this transaction and the first transaction in the dataset\n",
    "Amount: transaction amount"
   ]
  },
  {
   "cell_type": "code",
   "execution_count": 3,
   "id": "b2a8565c-56b0-4a4e-bcc2-f4aec81aee70",
   "metadata": {},
   "outputs": [],
   "source": [
    "# use a dataset sample for development purposes\n",
    "dev = False"
   ]
  },
  {
   "cell_type": "code",
   "execution_count": 4,
   "id": "e18de064-1708-4874-91c6-cbe5b622173d",
   "metadata": {},
   "outputs": [
    {
     "data": {
      "text/plain": [
       "<AxesSubplot:title={'center':'Fraudulent VS Genuine Transactions'}, ylabel='Class'>"
      ]
     },
     "execution_count": 4,
     "metadata": {},
     "output_type": "execute_result"
    },
    {
     "data": {
      "image/png": "[encoded data removed]",
      "text/plain": [
       "<Figure size 432x288 with 1 Axes>"
      ]
     },
     "metadata": {},
     "output_type": "display_data"
    }
   ],
   "source": [
    "df.groupby(['Class']).Class.count().plot(kind='pie', title='Fraudulent VS Genuine Transactions')"
   ]
  },
  {
   "cell_type": "code",
   "execution_count": 5,
   "id": "83eb49ba-5f07-4353-acaf-dfd1d92e1284",
   "metadata": {},
   "outputs": [
    {
     "name": "stderr",
     "output_type": "stream",
     "text": [
      "C:\\Users\\Dino_P340\\.conda\\envs\\Experiments\\lib\\site-packages\\sklearn\\manifold\\_t_sne.py:780: FutureWarning: The default initialization in TSNE will change from 'random' to 'pca' in 1.2.\n",
      "  warnings.warn(\n",
      "C:\\Users\\Dino_P340\\.conda\\envs\\Experiments\\lib\\site-packages\\sklearn\\manifold\\_t_sne.py:790: FutureWarning: The default learning rate in TSNE will change from 200.0 to 'auto' in 1.2.\n",
      "  warnings.warn(\n"
     ]
    }
   ],
   "source": [
    "df_s = df.sample(2000)\n",
    "X = df_s[[_ for _ in df.columns if _ != 'Class']]\n",
    "\n",
    "pca = PCA(n_components=2)\n",
    "tsne = TSNE(n_components=2)\n",
    "ump = UMAP(n_components=2)\n",
    "ipca = IncrementalPCA(n_components=2)\n",
    "\n",
    "x_pca = pca.fit_transform(X)\n",
    "x_tsne = tsne.fit_transform(X)\n",
    "x_umap = ump.fit_transform(X)"
   ]
  },
  {
   "cell_type": "code",
   "execution_count": 6,
   "id": "6a07f3f7-a177-422b-b470-86d39ef2bc5a",
   "metadata": {},
   "outputs": [
    {
     "data": {
      "image/png": "[encoded data removed]",
      "text/plain": [
       "<Figure size 1080x360 with 3 Axes>"
      ]
     },
     "metadata": {
      "needs_background": "light"
     },
     "output_type": "display_data"
    }
   ],
   "source": [
    "fig, axes = plt.subplots(nrows=1, ncols=3, figsize=(15, 5))\n",
    "\n",
    "sizes = pd.Series(df_s['Class']+1).pow(5) # represent fraud with bigger point\n",
    "\n",
    "axes[0].scatter(x_pca[:, 0], x_pca[:, 1], s=sizes, c=df_s['Class'].values)\n",
    "axes[1].scatter(x_tsne[:, 0], x_tsne[:, 1], s=sizes, c=df_s['Class'].values)\n",
    "axes[2].scatter(x_umap[:, 0], x_umap[:, 1], s=sizes, c=df_s['Class'].values)\n",
    "\n",
    "axes[0].set_title('PCA')\n",
    "axes[1].set_title('t-SNE')\n",
    "axes[2].set_title('UMAP')\n",
    "\n",
    "fig.tight_layout()\n",
    "plt.show()"
   ]
  },
  {
   "cell_type": "markdown",
   "id": "9e48079f-232e-437e-9c0a-ed84b7346673",
   "metadata": {},
   "source": [
    "Preprocessing\n",
    "Time and Amount fields should be scaled\n",
    "\n",
    "During the step of pre-processing, the dataset will be splited in two parts:\n",
    "\n",
    "~283K samples of genuine transactions (Training set)\n",
    "All fraudulent samples and equal number of genuine samples (Test set)\n",
    "Novelty detection is concered as a semi-supervised task due to the fact that only the normal samples are used during the phase of training. During the phase of evaluation, a balanced subset of genuine and fraudulent samples will be used."
   ]
  },
  {
   "cell_type": "code",
   "execution_count": 7,
   "id": "23336533-db70-40f9-b72f-faf6ea7e867c",
   "metadata": {},
   "outputs": [],
   "source": [
    "# time and amount scaling\n",
    "df['Time'] = StandardScaler().fit_transform(df['Time'].values.reshape(-1, 1))\n",
    "df['Amount'] = StandardScaler().fit_transform(df['Amount'].values.reshape(-1, 1))\n",
    "\n",
    "df_anom = df[df['Class'] == 1]\n",
    "df_norm = df[df['Class'] == 0]\n",
    "\n",
    "if dev:\n",
    "    df_norm = df_norm.sample(5000, random_state=42)\n",
    "df_test_norm = df_norm.sample(df_anom.shape[0])\n",
    "df_test = pd.concat([\n",
    "    df_anom,\n",
    "    df_test_norm\n",
    "])\n",
    "df_train = df_norm.drop(df_test_norm.index)\n",
    "\n",
    "feature_cols = [_ for _ in df.columns if _ != 'Class']"
   ]
  },
  {
   "cell_type": "code",
   "execution_count": 8,
   "id": "83c3a552-d520-41ad-901a-a3c79d3b798e",
   "metadata": {},
   "outputs": [
    {
     "name": "stdout",
     "output_type": "stream",
     "text": [
      "\n",
      "train: [  283823 x 30   ]\n",
      " test: [     984 x 30   ]\n",
      "\n"
     ]
    }
   ],
   "source": [
    "X_train = df_train[feature_cols]\n",
    "y_train = df_train['Class'] # will not be used\n",
    "X_test = df_test[feature_cols]\n",
    "y_test = df_test['Class'] # for evaluation\n",
    "print('''\n",
    "train: [{:>8} x {:<5}]\n",
    " test: [{:>8} x {:<5}]\n",
    "'''.format(*X_train.shape, *X_test.shape))"
   ]
  },
  {
   "cell_type": "code",
   "execution_count": 9,
   "id": "71d43d2b-83a7-4bdc-a729-bfa60fd5a91d",
   "metadata": {},
   "outputs": [],
   "source": [
    "def sensitivity_keras(y_true, y_pred):\n",
    "    \"\"\"credits: https://datascience.stackexchange.com/a/40746/28592\n",
    "    \n",
    "    param:\n",
    "    y_pred - Predicted labels\n",
    "    y_true - True labels \n",
    "    Returns:\n",
    "    Specificity score\n",
    "    \"\"\"\n",
    "    neg_y_true = 1 - y_true\n",
    "    neg_y_pred = 1 - y_pred\n",
    "    fp = tf.keras.backend.sum(neg_y_true * y_pred)\n",
    "    tn = tf.keras.backend.sum(neg_y_true * neg_y_pred)\n",
    "    specificity = tn / (tn + fp + tf.keras.backend.epsilon())\n",
    "    return specificity"
   ]
  },
  {
   "cell_type": "markdown",
   "id": "8c0b5e93-58d3-40c9-97f3-efd7fd4827bc",
   "metadata": {},
   "source": [
    "Training\n",
    "We are going to define some wrappers, these classes will work as adapters in order to have an abstract implementation."
   ]
  },
  {
   "cell_type": "code",
   "execution_count": 10,
   "id": "cdcf5872-7615-41c7-b612-b09426dde729",
   "metadata": {},
   "outputs": [],
   "source": [
    "class Scaled_IsolationForest(IsolationForest):\n",
    "    \"\"\"The purpose of this sub-class is to transform prediction values from {-1, 1} to {1,0}\n",
    "    \"\"\"\n",
    "    def predict(self, X):\n",
    "        pred = super().predict(X)\n",
    "        scale_func = np.vectorize(lambda x: 1 if x == -1 else 0)\n",
    "        return scale_func(pred)\n",
    "\n",
    "class Scaled_OneClass_SVM(OneClassSVM):\n",
    "    \"\"\"The purpose of this sub-class is to transform prediction values from {-1, 1} to {1,0}\n",
    "    \"\"\"\n",
    "    def predict(self, X):\n",
    "        return np.array([y==-1 for y in super().predict(X)])\n",
    "    \n",
    "class NoveltyDetection_Sequential(tf.keras.models.Sequential):\n",
    "    \"\"\"This custom `tf.keras.models.Sequential` sub-class transforms autoencoder's output into {1,0}.\n",
    "    Output value is determined based on reproduction (decode) loss. If reproduction loss is more than a threashold then, the input sample is considered as anomaly (outlier).\n",
    "    Based on few experiments, 1.5 is a dissent threashold (don't as why :P). Future work: determine the threashold using a more sophisticated method.\n",
    "    \"\"\"\n",
    "    def predict(self, x, *args, **kwargs):\n",
    "        pred = super().predict(x, *args, **kwargs)\n",
    "        mse = np.mean(np.power(x - pred, 2), axis=1)\n",
    "        scale_func = np.vectorize(lambda x: 1 if x > 1.5 else 0)\n",
    "        return scale_func(mse)"
   ]
  },
  {
   "cell_type": "code",
   "execution_count": 11,
   "id": "3c6f132e-0ab6-46e4-a0f9-1919ef96b2d4",
   "metadata": {},
   "outputs": [],
   "source": [
    "# define early stop in order to prevent overfitting and useless training\n",
    "early_stop = tf.keras.callbacks.EarlyStopping(\n",
    "    monitor='mse',\n",
    "    patience=10,\n",
    "    verbose=1, \n",
    "    mode='min',\n",
    "    restore_best_weights=True,\n",
    ")\n",
    "\n",
    "# it's a common practice to store the best model\n",
    "checkpoint = tf.keras.callbacks.ModelCheckpoint(\n",
    "    filepath='autoenc.hdf5',\n",
    "    save_best_only=True,\n",
    "    monitor='val_loss',\n",
    "    mode='min',\n",
    "    verbose=0\n",
    ")\n",
    "\n",
    "def get_autoencoder() -> tf.keras.models.Sequential:\n",
    "    \"\"\"Build an autoencoder\n",
    "    \"\"\"\n",
    "    model = NoveltyDetection_Sequential([\n",
    "        tf.keras.layers.Dense(X_train.shape[1], activation='relu', input_shape=(X_train.shape[1], )),\n",
    "        # add some noise to prevent overfitting\n",
    "        tf.keras.layers.GaussianNoise(0.05),\n",
    "        tf.keras.layers.Dense(2, activation='relu'),\n",
    "        tf.keras.layers.Dense(X_train.shape[1], activation='relu')\n",
    "    ])\n",
    "    model.compile(optimizer='adam', \n",
    "                        loss='mse',\n",
    "                        metrics=['acc', sensitivity_keras])\n",
    "    return model"
   ]
  },
  {
   "cell_type": "code",
   "execution_count": 12,
   "id": "01c7a280-b87d-43d6-a5ea-0c60b5f2458f",
   "metadata": {},
   "outputs": [],
   "source": [
    "clfs = {\n",
    "    'isolation_forest': {\n",
    "        'label': 'Isolation Forest',\n",
    "        'clb': Scaled_IsolationForest,\n",
    "        'params': {\n",
    "            'contamination': 'auto',\n",
    "            'n_estimators': 300\n",
    "        },\n",
    "        'predictions': None,\n",
    "        'model': None\n",
    "    },\n",
    "    'ocsvm': {\n",
    "        'label': 'OneClass SVM',\n",
    "        'clb': Scaled_OneClass_SVM,\n",
    "        'params': {\n",
    "            'kernel': 'rbf',\n",
    "            'gamma': 0.3,\n",
    "            'nu': 0.01,\n",
    "        },\n",
    "        'prediction': None,\n",
    "        'model': None\n",
    "    },\n",
    "    'auto-encoder': {\n",
    "        'label': 'Autoncoder',\n",
    "        'clb': get_autoencoder,\n",
    "        'params': {},\n",
    "        'fit_params': {\n",
    "            'x': X_train, 'y': X_train,\n",
    "            'validation_split': 0.2,\n",
    "            'callbacks': [early_stop, checkpoint],\n",
    "            'epochs': 64,\n",
    "            'batch_size': 256,\n",
    "            'verbose': 0\n",
    "        },\n",
    "        'predictions': None,\n",
    "        'model': None\n",
    "    }\n",
    "}"
   ]
  },
  {
   "cell_type": "code",
   "execution_count": null,
   "id": "6617c76b-4c5c-4c64-8323-99084fae11f3",
   "metadata": {},
   "outputs": [
    {
     "data": {
      "application/vnd.jupyter.widget-view+json": {
       "model_id": "3e3d35049afb4c35ac4d7be9d546afa4",
       "version_major": 2,
       "version_minor": 0
      },
      "text/plain": [
       "  0%|          | 0/3 [00:00<?, ?it/s]"
      ]
     },
     "metadata": {},
     "output_type": "display_data"
    }
   ],
   "source": [
    "%%time\n",
    "\n",
    "t = trange(len(clfs))\n",
    "for name in clfs:\n",
    "    t.set_description(clfs[name]['label'])\n",
    "    clfs[name]['model'] = clfs[name]['clb'](**clfs[name]['params'])\n",
    "    if 'fit_params' in clfs[name]:\n",
    "        clfs[name]['model'].fit(**clfs[name].get('fit_params', {}))\n",
    "    else:\n",
    "        clfs[name]['model'].fit(X_train)\n",
    "    clfs[name]['predictions'] = clfs[name]['model'].predict(X_test)\n",
    "    t.update()\n",
    "t.close()"
   ]
  },
  {
   "cell_type": "code",
   "execution_count": null,
   "id": "bf7c7388-96df-4649-b36b-ae1f7e25f3b7",
   "metadata": {},
   "outputs": [],
   "source": [
    "def print_eval_metrics(y_true, y_pred, name='', header=True):\n",
    "    \"\"\"Function for printing purposes\n",
    "    \"\"\"\n",
    "    if header:\n",
    "        print('{:>20}\\t{:>10}\\t{:>10}\\t{:>8}\\t{:>5}'.format('Algorith', 'Accuracy', 'Recall', 'Precision', 'f1'))\n",
    "    acc = accuracy_score(y_true, y_pred)\n",
    "    recall = recall_score(y_true, y_pred)\n",
    "    prec = precision_score(y_true, y_pred)\n",
    "    f1 = f1_score(y_true, y_pred)\n",
    "    print('{:>20}\\t{:>1.8f}\\t{:>1.8f}\\t{:>1.6f}\\t{:>1.3f}'.format(\n",
    "        name, acc, recall, prec, f1\n",
    "    ))"
   ]
  },
  {
   "cell_type": "markdown",
   "id": "927ead77-3426-4136-b2d4-340869d1b91d",
   "metadata": {},
   "source": [
    "Enseble"
   ]
  },
  {
   "cell_type": "code",
   "execution_count": null,
   "id": "2f89636c-907f-4100-b719-957b996abd5d",
   "metadata": {},
   "outputs": [],
   "source": [
    "y_preds = np.column_stack([clfs[_]['predictions'] for _ in clfs])\n",
    "enseble_preds = []"
   ]
  },
  {
   "cell_type": "markdown",
   "id": "3dc59419-17cb-4603-ac21-d757d92c1fea",
   "metadata": {},
   "source": [
    "Hard Voting\n",
    "This is one of the simplest way to combine multiple models in order to generalize better and achive better performance."
   ]
  },
  {
   "cell_type": "code",
   "execution_count": null,
   "id": "783ff668-87e7-4e98-8219-9ffdd97cd50e",
   "metadata": {},
   "outputs": [],
   "source": [
    "hard_vot = EnsembleVoteClassifier([clfs[_]['model'] for _ in clfs], fit_base_estimators=False)\n",
    "hard_vot.fit(X_test, y_test)\n",
    "enseble_preds.append((hard_vot.predict(X_test), 'Hard Voting'))"
   ]
  },
  {
   "cell_type": "markdown",
   "id": "1f2d38fe-6016-4235-be9b-d9efbdffd375",
   "metadata": {},
   "source": [
    "Weighted Hard Voting\n",
    "Using weighted hard voting you can take advantage of most high-performed models"
   ]
  },
  {
   "cell_type": "code",
   "execution_count": null,
   "id": "eb4dd88c-86ef-47fc-b385-521bbf363b8d",
   "metadata": {},
   "outputs": [],
   "source": [
    "wei_hard_vot = EnsembleVoteClassifier([clfs[_]['model'] for _ in clfs], weights=[\n",
    "        0.4,\n",
    "        0.1,\n",
    "        0.8\n",
    "    ], fit_base_estimators=False)\n",
    "wei_hard_vot.fit(X_test, y_test)\n",
    "enseble_preds.append((wei_hard_vot.predict(X_test), 'Weighted Hard Voting'))"
   ]
  },
  {
   "cell_type": "markdown",
   "id": "d92da581-68fa-4954-831a-c1c2bc5a42cc",
   "metadata": {},
   "source": [
    "Blending\n",
    "We are going to use the the predicted values as input to another model"
   ]
  },
  {
   "cell_type": "code",
   "execution_count": null,
   "id": "fbf77c9e-4d27-447d-a325-d7de5f499afe",
   "metadata": {},
   "outputs": [],
   "source": [
    "rf = RandomForestClassifier()\n",
    "\n",
    "x_tr_ens, x_ts_ens, y_tr_ens, y_ts_ens = train_test_split(y_preds, y_test, test_size=.5)\n",
    "rf.fit(x_tr_ens, y_tr_ens)"
   ]
  },
  {
   "cell_type": "markdown",
   "id": "33b4e2d6-4dc5-4a7e-9ccf-827dbd9ff808",
   "metadata": {},
   "source": [
    "Evaluation\n",
    "It's crusial to detect fraudulent transactions, therefor a significat evaluation metric could the simplicity. For every trained method and ensebling method the following evaluation metrics will be calculated:\n",
    "\n",
    "Accuracy\n",
    "Recall\n",
    "Precision\n",
    "f1 Score"
   ]
  },
  {
   "cell_type": "code",
   "execution_count": null,
   "id": "34507e8d-9dbf-4785-a810-efd4903d6475",
   "metadata": {},
   "outputs": [],
   "source": [
    "print_header = True\n",
    "for k, v in clfs.items():\n",
    "    print_eval_metrics(y_test, v['predictions'], v['label'], print_header)\n",
    "    print_header = False\n",
    "\n",
    "print('\\n')\n",
    "\n",
    "for prds, l in enseble_preds:\n",
    "    print_eval_metrics(y_test, prds, l, print_header)\n",
    "    print_header = False\n",
    "\n",
    "print('\\n')\n",
    "    \n",
    "print_eval_metrics(\n",
    "    y_ts_ens,\n",
    "    rf.predict(x_ts_ens),\n",
    "    'Bleding using RF', False\n",
    ")"
   ]
  },
  {
   "cell_type": "markdown",
   "id": "e0a7c2b0-8547-4967-8faf-4f1f2ee3d8fc",
   "metadata": {},
   "source": [
    "Future Work\n",
    "Find the auto-encoding loss threashold using a more sophisticated way\n",
    "Test more models and different configurations\n",
    "\n",
    "https://www.kaggle.com/sp1thas/semi-supervised-fraud-detection/notebook"
   ]
  }
 ],
 "metadata": {
  "kernelspec": {
   "display_name": "Python 3 (ipykernel)",
   "language": "python",
   "name": "python3"
  },
  "language_info": {
   "codemirror_mode": {
    "name": "ipython",
    "version": 3
   },
   "file_extension": ".py",
   "mimetype": "text/x-python",
   "name": "python",
   "nbconvert_exporter": "python",
   "pygments_lexer": "ipython3",
   "version": "3.8.12"
  }
 },
 "nbformat": 4,
 "nbformat_minor": 5
}
